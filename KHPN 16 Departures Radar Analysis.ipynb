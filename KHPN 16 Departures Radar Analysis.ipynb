{
 "cells": [
  {
   "cell_type": "markdown",
   "metadata": {},
   "source": [
    "# Executive Summary"
   ]
  },
  {
   "cell_type": "code",
   "execution_count": null,
   "metadata": {
    "ExecuteTime": {
     "end_time": "2021-11-16T04:17:48.655377Z",
     "start_time": "2021-11-16T04:17:48.651346Z"
    }
   },
   "outputs": [],
   "source": [
    "# This analysis looks at the frequency of flights on radar tracks at KHPN. The question being reviewed is \"Has the frequency of flights changed?\""
   ]
  },
  {
   "cell_type": "code",
   "execution_count": null,
   "metadata": {
    "ExecuteTime": {
     "end_time": "2021-11-16T04:17:48.709629Z",
     "start_time": "2021-11-16T04:17:48.663173Z"
    }
   },
   "outputs": [],
   "source": [
    "# Data used here is 3D radar track data from August 2005, 2010, 2015, and 2018"
   ]
  },
  {
   "cell_type": "markdown",
   "metadata": {},
   "source": [
    "# Import Required Packages"
   ]
  },
  {
   "cell_type": "code",
   "execution_count": null,
   "metadata": {
    "ExecuteTime": {
     "end_time": "2021-11-16T04:17:51.945336Z",
     "start_time": "2021-11-16T04:17:48.712084Z"
    }
   },
   "outputs": [],
   "source": [
    "from __future__ import print_function\n",
    "import json\n",
    "import time\n",
    "import datetime\n",
    "from urllib.request import urlopen\n",
    "\n",
    "import os\n",
    "import math\n",
    "import matplotlib\n",
    "import pandas as pd\n",
    "import io\n",
    "\n",
    "import numpy as np\n",
    "import numpy.random\n",
    "import matplotlib.pyplot as plt\n",
    "from matplotlib import cm as CM\n",
    "from matplotlib import pyplot as PLT\n",
    "\n",
    "from bs4 import BeautifulSoup\n",
    "\n",
    "from IPython.core.display import display, HTML\n",
    "display(HTML(\"<style>.container { width:90% !important; }</style>\"))"
   ]
  },
  {
   "cell_type": "markdown",
   "metadata": {},
   "source": [
    "# Define Functions"
   ]
  },
  {
   "cell_type": "code",
   "execution_count": null,
   "metadata": {
    "ExecuteTime": {
     "end_time": "2021-11-16T04:17:51.958400Z",
     "start_time": "2021-11-16T04:17:51.952445Z"
    }
   },
   "outputs": [],
   "source": [
    "def trackScope(df,southernLat,northernLat,westernLong,easternLong,maxAlt):\n",
    "    df = df[(df['Latitude']>=southernLat) & (df['Latitude']<=northernLat) & (df['Longitude']<=easternLong) & (df['Longitude']>=westernLong)] \n",
    "    return df"
   ]
  },
  {
   "cell_type": "code",
   "execution_count": null,
   "metadata": {
    "ExecuteTime": {
     "end_time": "2021-11-16T04:17:51.971787Z",
     "start_time": "2021-11-16T04:17:51.964006Z"
    }
   },
   "outputs": [],
   "source": [
    "def trackPrep(df):\n",
    "    df['Actual Date/Time'] = pd.to_datetime(df['Actual Date/Time'])\n",
    "    df['Track Point Time'] = pd.to_datetime(df['Track Point Time'])\n",
    "    return df"
   ]
  },
  {
   "cell_type": "code",
   "execution_count": null,
   "metadata": {
    "ExecuteTime": {
     "end_time": "2021-11-16T04:17:51.985871Z",
     "start_time": "2021-11-16T04:17:51.974255Z"
    }
   },
   "outputs": [],
   "source": [
    "def trackDiffs(df):\n",
    "    df = df.groupby('Operation No')['Track Point Time'].min().reset_index()\n",
    "    df = df.sort_values(by=['Track Point Time'])\n",
    "    df['Diff'] = df['Track Point Time'].shift(-1) - df['Track Point Time']\n",
    "    df['DiffSeconds'] = df['Diff'].dt.total_seconds()\n",
    "    df['DiffSecondsClipped'] = df['DiffSeconds']\n",
    "    df['DiffSecondsClipped'] = np.clip(df['DiffSeconds'], a_max=900, a_min=None)\n",
    "    return df"
   ]
  },
  {
   "cell_type": "code",
   "execution_count": null,
   "metadata": {
    "ExecuteTime": {
     "end_time": "2021-11-16T04:17:52.006960Z",
     "start_time": "2021-11-16T04:17:51.990538Z"
    }
   },
   "outputs": [],
   "source": [
    "def trackHistAnalysis(Lat1, Lat2, Long1, Long2, Alt, Title):\n",
    "    df2005Scope = trackDiffs(trackScope(df[df['Dataset']=='2005-08'],Lat1, Lat2, Long1, Long2, Alt))\n",
    "    df2010Scope = trackDiffs(trackScope(df[df['Dataset']=='2010-08'],Lat1, Lat2, Long1, Long2, Alt))\n",
    "    df2015Scope = trackDiffs(trackScope(df[df['Dataset']=='2015-08'],Lat1, Lat2, Long1, Long2, Alt))\n",
    "    df2018Scope = trackDiffs(trackScope(df[df['Dataset']=='2018-08'],Lat1, Lat2, Long1, Long2, Alt))\n",
    "    dataScope = [df2005Scope[\"DiffSecondsClipped\"], df2010Scope[\"DiffSecondsClipped\"], df2015Scope[\"DiffSecondsClipped\"], df2018Scope[\"DiffSecondsClipped\"]]\n",
    "\n",
    "    headers = [\"2005\", \"2010\", \"2015\", \"2018\"]\n",
    "    dataScope = pd.concat(dataScope, axis=1, keys=headers)\n",
    "    \n",
    "    MainMap = df[df['Dataset']=='2018-08']\n",
    "    MainMap['Color'] = 'DarkBlue'\n",
    "\n",
    "    FocusMap = trackScope(df[df['Dataset']=='2018-08'],Lat1, Lat2, Long1, Long2, Alt)\n",
    "    FocusMap['Color'] = 'Red'\n",
    "\n",
    "    MapData = pd.concat([MainMap, FocusMap])\n",
    "    \n",
    "    MapData.plot.scatter(x='Longitude',\n",
    "                y='Latitude',\n",
    "                c=MapData['Color'],\n",
    "                xlim=(-73.77,-73.65), ylim=(41.000,41.120),\n",
    "                alpha=0.05, s=3, figsize=(10,10), title=Title);\n",
    "    \n",
    "    dataScope[[\"2005\", \"2010\", \"2015\", \"2018\"]].plot.hist(bins=60, alpha=0.2, title=\"Histogram of Flight Frequency by Seconds\", density=True) \n",
    "    \n",
    "    dataScope.hist(color=\"k\", alpha=0.5, bins=60, figsize=(10, 10), density=True);\n",
    "\n",
    "    return dataScope"
   ]
  },
  {
   "cell_type": "markdown",
   "metadata": {},
   "source": [
    "# ETL Data"
   ]
  },
  {
   "cell_type": "code",
   "execution_count": null,
   "metadata": {
    "ExecuteTime": {
     "end_time": "2021-11-16T04:22:18.113411Z",
     "start_time": "2021-11-16T04:17:52.014002Z"
    }
   },
   "outputs": [],
   "source": [
    "df2018 = pd.read_csv('data/August 2018 HPN traffic.raw.csv')\n",
    "df2018 = trackPrep(df2018)"
   ]
  },
  {
   "cell_type": "code",
   "execution_count": null,
   "metadata": {
    "ExecuteTime": {
     "end_time": "2021-11-16T04:24:06.937040Z",
     "start_time": "2021-11-16T04:22:18.119581Z"
    }
   },
   "outputs": [],
   "source": [
    "df2010 = pd.read_csv('data/August 2010 HPN traffic smoothed.csv')\n",
    "df2010 = trackPrep(df2010)"
   ]
  },
  {
   "cell_type": "code",
   "execution_count": null,
   "metadata": {
    "ExecuteTime": {
     "end_time": "2021-11-16T04:26:05.731109Z",
     "start_time": "2021-11-16T04:24:06.940316Z"
    }
   },
   "outputs": [],
   "source": [
    "df2005 = pd.read_csv('data/August 2005 HPN traffic smoothed.csv')\n",
    "df2005 = trackPrep(df2005)"
   ]
  },
  {
   "cell_type": "code",
   "execution_count": null,
   "metadata": {
    "ExecuteTime": {
     "end_time": "2021-11-16T04:28:05.944728Z",
     "start_time": "2021-11-16T04:26:05.733126Z"
    }
   },
   "outputs": [],
   "source": [
    "df2015 = pd.read_csv('data/August 2015 HPN traffic.raw.csv')\n",
    "df2015 = trackPrep(df2015)"
   ]
  },
  {
   "cell_type": "code",
   "execution_count": null,
   "metadata": {
    "ExecuteTime": {
     "end_time": "2021-11-16T04:28:14.722304Z",
     "start_time": "2021-11-16T04:28:05.946876Z"
    }
   },
   "outputs": [],
   "source": [
    "df2005['Dataset'] = '2005-08'\n",
    "df2010['Dataset'] = '2010-08'\n",
    "df2015['Dataset'] = '2015-08'\n",
    "df2018['Dataset'] = '2018-08'\n",
    "df = pd.concat([df2005, df2010, df2015, df2018])"
   ]
  },
  {
   "cell_type": "markdown",
   "metadata": {},
   "source": [
    "# Analysis"
   ]
  },
  {
   "cell_type": "markdown",
   "metadata": {},
   "source": [
    "## Set 1 - Approach End of 34"
   ]
  },
  {
   "cell_type": "code",
   "execution_count": null,
   "metadata": {
    "ExecuteTime": {
     "end_time": "2021-11-16T04:29:06.607441Z",
     "start_time": "2021-11-16T04:28:14.725477Z"
    }
   },
   "outputs": [],
   "source": [
    "set1 = trackHistAnalysis(41.051,41.054,-73.702,-73.692,3500,\"KHPN Traffic Frequency Analysis - Approach End of 34\")"
   ]
  },
  {
   "cell_type": "code",
   "execution_count": null,
   "metadata": {
    "ExecuteTime": {
     "end_time": "2021-11-16T04:29:06.760977Z",
     "start_time": "2021-11-16T04:29:06.610652Z"
    }
   },
   "outputs": [],
   "source": [
    "set1.describe()"
   ]
  },
  {
   "cell_type": "markdown",
   "metadata": {},
   "source": [
    "## Set 2 - HPN7 Departure off Runway 16 (Purchase St. and Anderson Hill Road)"
   ]
  },
  {
   "cell_type": "code",
   "execution_count": null,
   "metadata": {
    "ExecuteTime": {
     "end_time": "2021-11-16T04:29:52.051793Z",
     "start_time": "2021-11-16T04:29:06.765429Z"
    }
   },
   "outputs": [],
   "source": [
    "set2 = trackHistAnalysis(41.031,41.041,-73.715,-73.701,3500,\"KHPN Traffic Frequency Analysis - HPN7 Departure off 16 in Purchase\")"
   ]
  },
  {
   "cell_type": "code",
   "execution_count": null,
   "metadata": {
    "ExecuteTime": {
     "end_time": "2021-11-16T04:29:52.090734Z",
     "start_time": "2021-11-16T04:29:52.053625Z"
    }
   },
   "outputs": [],
   "source": [
    "set2.describe()"
   ]
  },
  {
   "cell_type": "markdown",
   "metadata": {},
   "source": [
    "## Set 3 - HPN7 Approach End of 16"
   ]
  },
  {
   "cell_type": "code",
   "execution_count": null,
   "metadata": {
    "ExecuteTime": {
     "end_time": "2021-11-16T04:30:37.440862Z",
     "start_time": "2021-11-16T04:29:52.093989Z"
    }
   },
   "outputs": [],
   "source": [
    "set3 = trackHistAnalysis(41.077,41.085,-73.728,-73.708,3500,\"KHPN Traffic Frequency Analysis - HPN7 Departure off 16 in Purchase\")"
   ]
  },
  {
   "cell_type": "code",
   "execution_count": null,
   "metadata": {
    "ExecuteTime": {
     "end_time": "2021-11-16T04:30:37.485120Z",
     "start_time": "2021-11-16T04:30:37.450764Z"
    }
   },
   "outputs": [],
   "source": [
    "set3.describe()"
   ]
  },
  {
   "cell_type": "markdown",
   "metadata": {},
   "source": [
    "## Set 4 - Runway 34 Arrivals"
   ]
  },
  {
   "cell_type": "code",
   "execution_count": null,
   "metadata": {
    "ExecuteTime": {
     "end_time": "2021-11-16T04:31:22.664503Z",
     "start_time": "2021-11-16T04:30:37.487589Z"
    }
   },
   "outputs": [],
   "source": [
    "set4 = trackHistAnalysis(41.01,41.02,-73.67,-73.66,3500,\"KHPN Traffic Frequency Analysis - Runway 34 Approach\")"
   ]
  },
  {
   "cell_type": "code",
   "execution_count": null,
   "metadata": {
    "ExecuteTime": {
     "end_time": "2021-11-16T04:31:22.808423Z",
     "start_time": "2021-11-16T04:31:22.684125Z"
    }
   },
   "outputs": [],
   "source": [
    "set4.describe()"
   ]
  },
  {
   "cell_type": "markdown",
   "metadata": {},
   "source": [
    "## Set 5 - Runway 16 Arrivals"
   ]
  },
  {
   "cell_type": "code",
   "execution_count": null,
   "metadata": {
    "ExecuteTime": {
     "end_time": "2021-11-16T04:32:11.034277Z",
     "start_time": "2021-11-16T04:31:22.823550Z"
    }
   },
   "outputs": [],
   "source": [
    "set5 = trackHistAnalysis(41.10,41.11,-73.74,-73.73,3500,\"KHPN Traffic Frequency Analysis - Runway 16 Approach\")"
   ]
  },
  {
   "cell_type": "code",
   "execution_count": null,
   "metadata": {
    "ExecuteTime": {
     "end_time": "2021-11-16T04:32:11.062862Z",
     "start_time": "2021-11-16T04:32:11.037658Z"
    }
   },
   "outputs": [],
   "source": [
    "set5.describe()"
   ]
  },
  {
   "cell_type": "markdown",
   "metadata": {
    "ExecuteTime": {
     "end_time": "2021-11-14T07:25:20.989257Z",
     "start_time": "2021-11-14T07:25:20.984890Z"
    }
   },
   "source": [
    "## Set 6 - Runway 29 Arrivals"
   ]
  },
  {
   "cell_type": "code",
   "execution_count": null,
   "metadata": {
    "ExecuteTime": {
     "start_time": "2021-11-16T04:17:48.698Z"
    }
   },
   "outputs": [],
   "source": [
    "set6 = trackHistAnalysis(41.05,41.07,-73.69,-73.68,3500,\"KHPN Traffic Frequency Analysis - Runway 29 Approach\")"
   ]
  },
  {
   "cell_type": "code",
   "execution_count": null,
   "metadata": {
    "ExecuteTime": {
     "start_time": "2021-11-16T04:17:48.700Z"
    }
   },
   "outputs": [],
   "source": [
    "set6.describe()"
   ]
  },
  {
   "cell_type": "code",
   "execution_count": null,
   "metadata": {},
   "outputs": [],
   "source": []
  }
 ],
 "metadata": {
  "kernelspec": {
   "display_name": "Python 3",
   "language": "python",
   "name": "python3"
  },
  "language_info": {
   "codemirror_mode": {
    "name": "ipython",
    "version": 3
   },
   "file_extension": ".py",
   "mimetype": "text/x-python",
   "name": "python",
   "nbconvert_exporter": "python",
   "pygments_lexer": "ipython3",
   "version": "3.7.5"
  },
  "toc": {
   "base_numbering": 1,
   "nav_menu": {},
   "number_sections": true,
   "sideBar": true,
   "skip_h1_title": false,
   "title_cell": "Table of Contents",
   "title_sidebar": "Contents",
   "toc_cell": false,
   "toc_position": {
    "height": "calc(100% - 180px)",
    "left": "10px",
    "top": "150px",
    "width": "165px"
   },
   "toc_section_display": true,
   "toc_window_display": true
  }
 },
 "nbformat": 4,
 "nbformat_minor": 2
}
